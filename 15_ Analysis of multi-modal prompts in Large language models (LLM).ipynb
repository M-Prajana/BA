{
 "cells": [
  {
   "cell_type": "code",
   "execution_count": 7,
   "id": "d29fe669",
   "metadata": {},
   "outputs": [
    {
     "data": {
      "text/html": [
       "<div>\n",
       "<style scoped>\n",
       "    .dataframe tbody tr th:only-of-type {\n",
       "        vertical-align: middle;\n",
       "    }\n",
       "\n",
       "    .dataframe tbody tr th {\n",
       "        vertical-align: top;\n",
       "    }\n",
       "\n",
       "    .dataframe thead th {\n",
       "        text-align: right;\n",
       "    }\n",
       "</style>\n",
       "<table border=\"1\" class=\"dataframe\">\n",
       "  <thead>\n",
       "    <tr style=\"text-align: right;\">\n",
       "      <th></th>\n",
       "      <th>ArticleTitle</th>\n",
       "      <th>Question</th>\n",
       "      <th>Answer</th>\n",
       "      <th>DifficultyFromQuestioner</th>\n",
       "      <th>DifficultyFromAnswerer</th>\n",
       "      <th>ArticleFile</th>\n",
       "    </tr>\n",
       "  </thead>\n",
       "  <tbody>\n",
       "    <tr>\n",
       "      <th>0</th>\n",
       "      <td>Abraham_Lincoln</td>\n",
       "      <td>Was Abraham Lincoln the sixteenth President of...</td>\n",
       "      <td>yes</td>\n",
       "      <td>easy</td>\n",
       "      <td>easy</td>\n",
       "      <td>S08_set3_a4</td>\n",
       "    </tr>\n",
       "    <tr>\n",
       "      <th>1</th>\n",
       "      <td>Abraham_Lincoln</td>\n",
       "      <td>Was Abraham Lincoln the sixteenth President of...</td>\n",
       "      <td>Yes.</td>\n",
       "      <td>easy</td>\n",
       "      <td>easy</td>\n",
       "      <td>S08_set3_a4</td>\n",
       "    </tr>\n",
       "    <tr>\n",
       "      <th>2</th>\n",
       "      <td>Abraham_Lincoln</td>\n",
       "      <td>Did Lincoln sign the National Banking Act of 1...</td>\n",
       "      <td>yes</td>\n",
       "      <td>easy</td>\n",
       "      <td>medium</td>\n",
       "      <td>S08_set3_a4</td>\n",
       "    </tr>\n",
       "    <tr>\n",
       "      <th>3</th>\n",
       "      <td>Abraham_Lincoln</td>\n",
       "      <td>Did Lincoln sign the National Banking Act of 1...</td>\n",
       "      <td>Yes.</td>\n",
       "      <td>easy</td>\n",
       "      <td>easy</td>\n",
       "      <td>S08_set3_a4</td>\n",
       "    </tr>\n",
       "  </tbody>\n",
       "</table>\n",
       "</div>"
      ],
      "text/plain": [
       "      ArticleTitle                                           Question Answer  \\\n",
       "0  Abraham_Lincoln  Was Abraham Lincoln the sixteenth President of...    yes   \n",
       "1  Abraham_Lincoln  Was Abraham Lincoln the sixteenth President of...   Yes.   \n",
       "2  Abraham_Lincoln  Did Lincoln sign the National Banking Act of 1...    yes   \n",
       "3  Abraham_Lincoln  Did Lincoln sign the National Banking Act of 1...   Yes.   \n",
       "\n",
       "  DifficultyFromQuestioner DifficultyFromAnswerer  ArticleFile  \n",
       "0                     easy                   easy  S08_set3_a4  \n",
       "1                     easy                   easy  S08_set3_a4  \n",
       "2                     easy                 medium  S08_set3_a4  \n",
       "3                     easy                   easy  S08_set3_a4  "
      ]
     },
     "execution_count": 7,
     "metadata": {},
     "output_type": "execute_result"
    }
   ],
   "source": [
    "# Core libraries\n",
    "import pandas as pd\n",
    "import numpy as np\n",
    "import matplotlib.pyplot as plt\n",
    "import seaborn as sns\n",
    "\n",
    "# NLP and ML tools\n",
    "import spacy\n",
    "from sklearn.decomposition import PCA\n",
    "from sklearn.cluster import KMeans\n",
    "\n",
    "# Optional: Encoding detection\n",
    "import chardet\n",
    "\n",
    "# Detect encoding for raw_text_data4.txt\n",
    "def detect_encoding(file_path):\n",
    "    with open(file_path, 'rb') as f:\n",
    "        result = chardet.detect(f.read(10000))\n",
    "    return result['encoding']\n",
    "\n",
    "# Load files with appropriate encoding\n",
    "df1 = pd.read_csv('C:\\\\Users\\\\Administrator\\\\Downloads\\\\raw_text_data2.txt', sep='\\t', encoding='utf-8')\n",
    "df2 = pd.read_csv('C:\\\\Users\\\\Administrator\\\\Downloads\\\\raw_text_data3.txt', sep='\\t', encoding='utf-8')\n",
    "encoding3 = detect_encoding('C:\\\\Users\\\\Administrator\\\\Downloads\\\\raw_text_data4.txt')\n",
    "df3 = pd.read_csv('C:\\\\Users\\\\Administrator\\\\Downloads\\\\raw_text_data4.txt', sep='\\t', encoding=encoding3)\n",
    "\n",
    "# Combine datasets\n",
    "df_all = pd.concat([df1, df2, df3], ignore_index=True)\n",
    "df_all.head(4)"
   ]
  },
  {
   "cell_type": "code",
   "execution_count": 9,
   "id": "ce7d775a",
   "metadata": {},
   "outputs": [],
   "source": [
    "# Drop nulls and duplicates\n",
    "df_all.dropna(inplace=True)\n",
    "df_all.drop_duplicates(inplace=True)\n",
    "\n",
    "# Normalize text fields\n",
    "df_all['Question'] = df_all['Question'].str.strip().str.lower()\n",
    "df_all['Answer'] = df_all['Answer'].str.strip().str.lower()\n",
    "\n",
    "# Add prompt length\n",
    "df_all['prompt_length'] = df_all['Question'].apply(lambda x: len(x.split()))"
   ]
  },
  {
   "cell_type": "code",
   "execution_count": 11,
   "id": "cf764d5f",
   "metadata": {},
   "outputs": [
    {
     "name": "stderr",
     "output_type": "stream",
     "text": [
      "C:\\ProgramData\\anaconda3\\Lib\\site-packages\\seaborn\\_oldcore.py:1119: FutureWarning: use_inf_as_na option is deprecated and will be removed in a future version. Convert inf values to NaN before operating instead.\n",
      "  with pd.option_context('mode.use_inf_as_na', True):\n"
     ]
    },
    {
     "data": {
      "image/png": "[encoded data removed]",
      "text/plain": [
       "<Figure size 800x500 with 1 Axes>"
      ]
     },
     "metadata": {},
     "output_type": "display_data"
    },
    {
     "data": {
      "image/png": "[encoded data removed]",
      "text/plain": [
       "<Figure size 800x500 with 1 Axes>"
      ]
     },
     "metadata": {},
     "output_type": "display_data"
    }
   ],
   "source": [
    "# Prompt length distribution\n",
    "plt.figure(figsize=(8,5))\n",
    "sns.histplot(df_all['prompt_length'], bins=30, kde=True)\n",
    "plt.title('Prompt Length Distribution')\n",
    "plt.xlabel('Number of Words')\n",
    "plt.ylabel('Frequency')\n",
    "plt.show()\n",
    "\n",
    "# Map difficulty levels to numeric scores\n",
    "difficulty_map = {\n",
    "    'easy': 1,\n",
    "    'medium': 2,\n",
    "    'hard': 3,\n",
    "    'too hard': 4\n",
    "}\n",
    "\n",
    "# Apply mapping\n",
    "df_all['DifficultyFromQuestioner_num'] = df_all['DifficultyFromQuestioner'].map(difficulty_map)\n",
    "df_all['DifficultyFromAnswerer_num'] = df_all['DifficultyFromAnswerer'].map(difficulty_map)\n",
    "\n",
    "# Drop rows with missing values\n",
    "df_cleaned = df_all.dropna(subset=['DifficultyFromQuestioner_num', 'DifficultyFromAnswerer_num'])\n",
    "\n",
    "# Melt for boxplot\n",
    "df_melted = df_cleaned[['DifficultyFromQuestioner_num', 'DifficultyFromAnswerer_num']].melt(\n",
    "    var_name='Source', value_name='Difficulty'\n",
    ")\n",
    "\n",
    "# Plot boxplot\n",
    "plt.figure(figsize=(8,5))\n",
    "sns.boxplot(x='Source', y='Difficulty', data=df_melted)\n",
    "plt.title('Difficulty Ratings Comparison')\n",
    "plt.ylabel('Difficulty Score')\n",
    "plt.yticks([1, 2, 3, 4], ['Easy', 'Medium', 'Hard', 'Too Hard'])\n",
    "plt.show()"
   ]
  },
  {
   "cell_type": "code",
   "execution_count": 14,
   "id": "353aa135",
   "metadata": {},
   "outputs": [
    {
     "data": {
      "text/html": [
       "<div>\n",
       "<style scoped>\n",
       "    .dataframe tbody tr th:only-of-type {\n",
       "        vertical-align: middle;\n",
       "    }\n",
       "\n",
       "    .dataframe tbody tr th {\n",
       "        vertical-align: top;\n",
       "    }\n",
       "\n",
       "    .dataframe thead th {\n",
       "        text-align: right;\n",
       "    }\n",
       "</style>\n",
       "<table border=\"1\" class=\"dataframe\">\n",
       "  <thead>\n",
       "    <tr style=\"text-align: right;\">\n",
       "      <th></th>\n",
       "      <th>ArticleTitle</th>\n",
       "      <th>Question</th>\n",
       "      <th>Answer</th>\n",
       "      <th>DifficultyFromQuestioner</th>\n",
       "      <th>DifficultyFromAnswerer</th>\n",
       "      <th>ArticleFile</th>\n",
       "      <th>prompt_length</th>\n",
       "      <th>DifficultyFromQuestioner_num</th>\n",
       "      <th>DifficultyFromAnswerer_num</th>\n",
       "      <th>complexity_score</th>\n",
       "      <th>entity_count</th>\n",
       "    </tr>\n",
       "  </thead>\n",
       "  <tbody>\n",
       "    <tr>\n",
       "      <th>0</th>\n",
       "      <td>Abraham_Lincoln</td>\n",
       "      <td>was abraham lincoln the sixteenth president of...</td>\n",
       "      <td>yes</td>\n",
       "      <td>easy</td>\n",
       "      <td>easy</td>\n",
       "      <td>S08_set3_a4</td>\n",
       "      <td>10</td>\n",
       "      <td>1</td>\n",
       "      <td>1.0</td>\n",
       "      <td>11</td>\n",
       "      <td>3</td>\n",
       "    </tr>\n",
       "    <tr>\n",
       "      <th>1</th>\n",
       "      <td>Abraham_Lincoln</td>\n",
       "      <td>was abraham lincoln the sixteenth president of...</td>\n",
       "      <td>yes.</td>\n",
       "      <td>easy</td>\n",
       "      <td>easy</td>\n",
       "      <td>S08_set3_a4</td>\n",
       "      <td>10</td>\n",
       "      <td>1</td>\n",
       "      <td>1.0</td>\n",
       "      <td>11</td>\n",
       "      <td>3</td>\n",
       "    </tr>\n",
       "    <tr>\n",
       "      <th>2</th>\n",
       "      <td>Abraham_Lincoln</td>\n",
       "      <td>did lincoln sign the national banking act of 1...</td>\n",
       "      <td>yes</td>\n",
       "      <td>easy</td>\n",
       "      <td>medium</td>\n",
       "      <td>S08_set3_a4</td>\n",
       "      <td>9</td>\n",
       "      <td>1</td>\n",
       "      <td>2.0</td>\n",
       "      <td>10</td>\n",
       "      <td>2</td>\n",
       "    </tr>\n",
       "    <tr>\n",
       "      <th>3</th>\n",
       "      <td>Abraham_Lincoln</td>\n",
       "      <td>did lincoln sign the national banking act of 1...</td>\n",
       "      <td>yes.</td>\n",
       "      <td>easy</td>\n",
       "      <td>easy</td>\n",
       "      <td>S08_set3_a4</td>\n",
       "      <td>9</td>\n",
       "      <td>1</td>\n",
       "      <td>1.0</td>\n",
       "      <td>10</td>\n",
       "      <td>2</td>\n",
       "    </tr>\n",
       "  </tbody>\n",
       "</table>\n",
       "</div>"
      ],
      "text/plain": [
       "      ArticleTitle                                           Question Answer  \\\n",
       "0  Abraham_Lincoln  was abraham lincoln the sixteenth president of...    yes   \n",
       "1  Abraham_Lincoln  was abraham lincoln the sixteenth president of...   yes.   \n",
       "2  Abraham_Lincoln  did lincoln sign the national banking act of 1...    yes   \n",
       "3  Abraham_Lincoln  did lincoln sign the national banking act of 1...   yes.   \n",
       "\n",
       "  DifficultyFromQuestioner DifficultyFromAnswerer  ArticleFile  prompt_length  \\\n",
       "0                     easy                   easy  S08_set3_a4             10   \n",
       "1                     easy                   easy  S08_set3_a4             10   \n",
       "2                     easy                 medium  S08_set3_a4              9   \n",
       "3                     easy                   easy  S08_set3_a4              9   \n",
       "\n",
       "   DifficultyFromQuestioner_num  DifficultyFromAnswerer_num  complexity_score  \\\n",
       "0                             1                         1.0                11   \n",
       "1                             1                         1.0                11   \n",
       "2                             1                         2.0                10   \n",
       "3                             1                         1.0                10   \n",
       "\n",
       "   entity_count  \n",
       "0             3  \n",
       "1             3  \n",
       "2             2  \n",
       "3             2  "
      ]
     },
     "execution_count": 14,
     "metadata": {},
     "output_type": "execute_result"
    }
   ],
   "source": [
    "# Prompt complexity score\n",
    "df_all['complexity_score'] = df_all['prompt_length'] + df_all['Question'].apply(lambda x: x.count('?'))\n",
    "\n",
    "# Named entity count using spaCy\n",
    "nlp = spacy.load(\"en_core_web_sm\")\n",
    "df_all['entity_count'] = df_all['Question'].apply(lambda x: len(nlp(x).ents))\n",
    "df_all.head(4)"
   ]
  },
  {
   "cell_type": "code",
   "execution_count": 15,
   "id": "bbbfef8e",
   "metadata": {},
   "outputs": [
    {
     "name": "stdout",
     "output_type": "stream",
     "text": [
      "Explained variance: 0.11846320948637311\n"
     ]
    }
   ],
   "source": [
    "from sklearn.feature_extraction.text import TfidfVectorizer\n",
    "\n",
    "# TF-IDF vectorization\n",
    "vectorizer = TfidfVectorizer(max_features=1000)\n",
    "X = vectorizer.fit_transform(df_all['Question'])\n",
    "\n",
    "# PCA\n",
    "pca = PCA(n_components=10)\n",
    "X_pca = pca.fit_transform(X.toarray())\n",
    "\n",
    "print(\"Explained variance:\", pca.explained_variance_ratio_.sum())"
   ]
  },
  {
   "cell_type": "code",
   "execution_count": 16,
   "id": "2ca36930",
   "metadata": {},
   "outputs": [
    {
     "data": {
      "image/png": "[encoded data removed]",
      "text/plain": [
       "<Figure size 640x480 with 1 Axes>"
      ]
     },
     "metadata": {},
     "output_type": "display_data"
    }
   ],
   "source": [
    "# KMeans clustering\n",
    "kmeans = KMeans(n_clusters=5, random_state=42)\n",
    "df_all['cluster'] = kmeans.fit_predict(X_pca)\n",
    "\n",
    "# Cluster distribution\n",
    "sns.countplot(x='cluster', data=df_all)\n",
    "plt.title('Prompt Clusters')\n",
    "plt.xlabel('Cluster')\n",
    "plt.ylabel('Count')\n",
    "plt.show()"
   ]
  },
  {
   "cell_type": "code",
   "execution_count": 17,
   "id": "1c363c39",
   "metadata": {},
   "outputs": [
    {
     "name": "stdout",
     "output_type": "stream",
     "text": [
      "         prompt_length  complexity_score  entity_count\n",
      "cluster                                               \n",
      "0             8.048260          9.029181      0.797980\n",
      "1             7.945607          8.927476      0.482566\n",
      "2             6.826733          7.826733      0.118812\n",
      "3             8.584229          9.577061      0.577061\n",
      "4             7.374545          8.374545      0.396364\n"
     ]
    }
   ],
   "source": [
    "# Cluster-wise summary\n",
    "summary = df_all.groupby('cluster')[['prompt_length', 'complexity_score', 'entity_count']].mean()\n",
    "print(summary)"
   ]
  },
  {
   "cell_type": "code",
   "execution_count": 18,
   "id": "a3bc332f",
   "metadata": {},
   "outputs": [],
   "source": [
    "# Save cleaned and enriched dataset\n",
    "df_all.to_csv('15_PromptAnalytics_Cleaned.csv', index=False)"
   ]
  }
 ],
 "metadata": {
  "kernelspec": {
   "display_name": "Python 3 (ipykernel)",
   "language": "python",
   "name": "python3"
  },
  "language_info": {
   "codemirror_mode": {
    "name": "ipython",
    "version": 3
   },
   "file_extension": ".py",
   "mimetype": "text/x-python",
   "name": "python",
   "nbconvert_exporter": "python",
   "pygments_lexer": "ipython3",
   "version": "3.11.5"
  }
 },
 "nbformat": 4,
 "nbformat_minor": 5
}
