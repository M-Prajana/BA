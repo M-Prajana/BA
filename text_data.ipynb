{
 "cells": [
  {
   "cell_type": "code",
   "execution_count": 7,
   "id": "85c5723e",
   "metadata": {},
   "outputs": [
    {
     "name": "stdout",
     "output_type": "stream",
     "text": [
      "Collecting openpyxl\n",
      "  Downloading openpyxl-3.1.5-py2.py3-none-any.whl.metadata (2.5 kB)\n",
      "Collecting et-xmlfile (from openpyxl)\n",
      "  Downloading et_xmlfile-2.0.0-py3-none-any.whl.metadata (2.7 kB)\n",
      "Downloading openpyxl-3.1.5-py2.py3-none-any.whl (250 kB)\n",
      "Downloading et_xmlfile-2.0.0-py3-none-any.whl (18 kB)\n",
      "Installing collected packages: et-xmlfile, openpyxl\n",
      "\u001b[2K   \u001b[90m━━━━━━━━━━━━━━━━━━━━━━━━━━━━━━━━━━━━━━━━\u001b[0m \u001b[32m2/2\u001b[0m [openpyxl]1/2\u001b[0m [openpyxl]\n",
      "\u001b[1A\u001b[2KSuccessfully installed et-xmlfile-2.0.0 openpyxl-3.1.5\n",
      "\n",
      "\u001b[1m[\u001b[0m\u001b[34;49mnotice\u001b[0m\u001b[1;39;49m]\u001b[0m\u001b[39;49m A new release of pip is available: \u001b[0m\u001b[31;49m25.1.1\u001b[0m\u001b[39;49m -> \u001b[0m\u001b[32;49m25.2\u001b[0m\n",
      "\u001b[1m[\u001b[0m\u001b[34;49mnotice\u001b[0m\u001b[1;39;49m]\u001b[0m\u001b[39;49m To update, run: \u001b[0m\u001b[32;49mpython3 -m pip install --upgrade pip\u001b[0m\n"
     ]
    }
   ],
   "source": [
    "!pip install openpyxl"
   ]
  },
  {
   "cell_type": "code",
   "execution_count": 10,
   "id": "2c78b3d5",
   "metadata": {},
   "outputs": [
    {
     "name": "stdout",
     "output_type": "stream",
     "text": [
      "Saved 2457 unique questions from all files to all_prompts.xlsx\n"
     ]
    }
   ],
   "source": [
    "import pandas as pd\n",
    "import re\n",
    "path = \"/workspaces/BA/datasets/\"\n",
    "files = [\"/workspaces/BA/datasets/raw_text_data2.txt\", \"/workspaces/BA/datasets/raw_text_data3.txt\",\"/workspaces/BA/datasets/raw_text_data4.txt\"]\n",
    "all_questions = []\n",
    "ILLEGAL_CHARACTERS_RE = re.compile(r'[\\000-\\010]|[\\013-\\014]|[\\016-\\037]')\n",
    "\n",
    "for f in files:\n",
    "    df = pd.read_csv(f, sep=\"\\t\", encoding=\"latin-1\")\n",
    "    df['Question'] = df['Question'].astype(str).apply(\n",
    "        lambda x: ILLEGAL_CHARACTERS_RE.sub(\"\", x)\n",
    "    )\n",
    "    all_questions.append(df[['Question']])\n",
    "\n",
    "# Combine them\n",
    "questions_df = pd.concat(all_questions).drop_duplicates().reset_index(drop=True)\n",
    "\n",
    "# Save to Excel\n",
    "questions_df.to_excel(\"/workspaces/BA/datasets/all_prompts.xlsx\", index=False)\n",
    "\n",
    "print(f\"Saved {len(questions_df)} unique questions from all files to all_prompts.xlsx\")\n"
   ]
  },
  {
   "cell_type": "code",
   "execution_count": 1,
   "id": "61e7bc62",
   "metadata": {},
   "outputs": [
    {
     "name": "stdout",
     "output_type": "stream",
     "text": [
      "Appended 173574 prompts. Total now: 59663 in all_prompts.xlsx\n"
     ]
    }
   ],
   "source": [
    "import pandas as pd\n",
    "import re\n",
    "\n",
    "# Regex to clean illegal Excel characters\n",
    "ILLEGAL_CHARACTERS_RE = re.compile(r'[\\000-\\010]|[\\013-\\014]|[\\016-\\037]')\n",
    "\n",
    "# Step 1: Load existing Excel\n",
    "questions_df = pd.read_excel(\"/workspaces/BA/datasets/all_prompts.xlsx\")\n",
    "\n",
    "# Step 2: Read JSONL file\n",
    "jsonl_file = \"/workspaces/BA/datasets/raw_text_data1.jsonl\"\n",
    "new_questions = pd.read_json(jsonl_file, lines=True)\n",
    "\n",
    "# Extract only \"response\" column, rename to \"Question\"\n",
    "new_questions = new_questions[['response']].rename(columns={'response': 'Question'})\n",
    "\n",
    "# Clean illegal characters\n",
    "new_questions['Question'] = new_questions['Question'].astype(str).apply(\n",
    "    lambda x: ILLEGAL_CHARACTERS_RE.sub(\"\", x)\n",
    ")\n",
    "\n",
    "# Step 3: Concat with existing\n",
    "combined = pd.concat([questions_df, new_questions]).drop_duplicates().reset_index(drop=True)\n",
    "\n",
    "# Step 4: Save back to Excel (overwrite with new combined version)\n",
    "combined.to_excel(\"/workspaces/BA/datasets/all_prompts.xlsx\", index=False)\n",
    "\n",
    "print(f\"Appended {len(new_questions)} prompts. Total now: {len(combined)} in all_prompts.xlsx\")\n"
   ]
  }
 ],
 "metadata": {
  "kernelspec": {
   "display_name": "Python 3",
   "language": "python",
   "name": "python3"
  },
  "language_info": {
   "codemirror_mode": {
    "name": "ipython",
    "version": 3
   },
   "file_extension": ".py",
   "mimetype": "text/x-python",
   "name": "python",
   "nbconvert_exporter": "python",
   "pygments_lexer": "ipython3",
   "version": "3.12.1"
  }
 },
 "nbformat": 4,
 "nbformat_minor": 5
}
